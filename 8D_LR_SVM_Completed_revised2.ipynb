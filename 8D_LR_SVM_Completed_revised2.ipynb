{
 "cells": [
  {
   "cell_type": "markdown",
   "metadata": {
    "colab_type": "text",
    "id": "86Tvnj5UblTy"
   },
   "source": [
    "## Task-D: Collinear features and their effect on linear models"
   ]
  },
  {
   "cell_type": "code",
   "execution_count": 25,
   "metadata": {
    "colab": {},
    "colab_type": "code",
    "id": "qn_eOn2EblT3"
   },
   "outputs": [],
   "source": [
    "%matplotlib inline\n",
    "import warnings\n",
    "warnings.filterwarnings(\"ignore\")\n",
    "import pandas as pd\n",
    "import numpy as np\n",
    "from sklearn.datasets import load_iris\n",
    "from sklearn.linear_model import SGDClassifier\n",
    "from sklearn.model_selection import GridSearchCV\n",
    "import seaborn as sns\n",
    "import matplotlib.pyplot as plt"
   ]
  },
  {
   "cell_type": "code",
   "execution_count": 26,
   "metadata": {
    "colab": {},
    "colab_type": "code",
    "id": "VMoYWIayblUB"
   },
   "outputs": [],
   "source": [
    "data = pd.read_csv('task_d.csv')"
   ]
  },
  {
   "cell_type": "code",
   "execution_count": 27,
   "metadata": {
    "colab": {},
    "colab_type": "code",
    "id": "RfStXG4tblUI",
    "outputId": "ddf4eec6-7f53-4d28-914f-23133957d6d5"
   },
   "outputs": [
    {
     "data": {
      "text/html": [
       "<div>\n",
       "<style scoped>\n",
       "    .dataframe tbody tr th:only-of-type {\n",
       "        vertical-align: middle;\n",
       "    }\n",
       "\n",
       "    .dataframe tbody tr th {\n",
       "        vertical-align: top;\n",
       "    }\n",
       "\n",
       "    .dataframe thead th {\n",
       "        text-align: right;\n",
       "    }\n",
       "</style>\n",
       "<table border=\"1\" class=\"dataframe\">\n",
       "  <thead>\n",
       "    <tr style=\"text-align: right;\">\n",
       "      <th></th>\n",
       "      <th>x</th>\n",
       "      <th>y</th>\n",
       "      <th>z</th>\n",
       "      <th>x*x</th>\n",
       "      <th>2*y</th>\n",
       "      <th>2*z+3*x*x</th>\n",
       "      <th>w</th>\n",
       "      <th>target</th>\n",
       "    </tr>\n",
       "  </thead>\n",
       "  <tbody>\n",
       "    <tr>\n",
       "      <th>0</th>\n",
       "      <td>-0.581066</td>\n",
       "      <td>0.841837</td>\n",
       "      <td>-1.012978</td>\n",
       "      <td>-0.604025</td>\n",
       "      <td>0.841837</td>\n",
       "      <td>-0.665927</td>\n",
       "      <td>-0.536277</td>\n",
       "      <td>0</td>\n",
       "    </tr>\n",
       "    <tr>\n",
       "      <th>1</th>\n",
       "      <td>-0.894309</td>\n",
       "      <td>-0.207835</td>\n",
       "      <td>-1.012978</td>\n",
       "      <td>-0.883052</td>\n",
       "      <td>-0.207835</td>\n",
       "      <td>-0.917054</td>\n",
       "      <td>-0.522364</td>\n",
       "      <td>0</td>\n",
       "    </tr>\n",
       "    <tr>\n",
       "      <th>2</th>\n",
       "      <td>-1.207552</td>\n",
       "      <td>0.212034</td>\n",
       "      <td>-1.082312</td>\n",
       "      <td>-1.150918</td>\n",
       "      <td>0.212034</td>\n",
       "      <td>-1.166507</td>\n",
       "      <td>0.205738</td>\n",
       "      <td>0</td>\n",
       "    </tr>\n",
       "    <tr>\n",
       "      <th>3</th>\n",
       "      <td>-1.364174</td>\n",
       "      <td>0.002099</td>\n",
       "      <td>-0.943643</td>\n",
       "      <td>-1.280666</td>\n",
       "      <td>0.002099</td>\n",
       "      <td>-1.266540</td>\n",
       "      <td>-0.665720</td>\n",
       "      <td>0</td>\n",
       "    </tr>\n",
       "    <tr>\n",
       "      <th>4</th>\n",
       "      <td>-0.737687</td>\n",
       "      <td>1.051772</td>\n",
       "      <td>-1.012978</td>\n",
       "      <td>-0.744934</td>\n",
       "      <td>1.051772</td>\n",
       "      <td>-0.792746</td>\n",
       "      <td>-0.735054</td>\n",
       "      <td>0</td>\n",
       "    </tr>\n",
       "  </tbody>\n",
       "</table>\n",
       "</div>"
      ],
      "text/plain": [
       "          x         y         z       x*x       2*y  2*z+3*x*x         w  \\\n",
       "0 -0.581066  0.841837 -1.012978 -0.604025  0.841837  -0.665927 -0.536277   \n",
       "1 -0.894309 -0.207835 -1.012978 -0.883052 -0.207835  -0.917054 -0.522364   \n",
       "2 -1.207552  0.212034 -1.082312 -1.150918  0.212034  -1.166507  0.205738   \n",
       "3 -1.364174  0.002099 -0.943643 -1.280666  0.002099  -1.266540 -0.665720   \n",
       "4 -0.737687  1.051772 -1.012978 -0.744934  1.051772  -0.792746 -0.735054   \n",
       "\n",
       "   target  \n",
       "0       0  \n",
       "1       0  \n",
       "2       0  \n",
       "3       0  \n",
       "4       0  "
      ]
     },
     "execution_count": 27,
     "metadata": {},
     "output_type": "execute_result"
    }
   ],
   "source": [
    "data.head()"
   ]
  },
  {
   "cell_type": "code",
   "execution_count": 28,
   "metadata": {
    "colab": {},
    "colab_type": "code",
    "id": "JIIuomCkblUP"
   },
   "outputs": [],
   "source": [
    "X = data.drop(['target'], axis=1).values\n",
    "Y = data['target'].values\n",
    "feature_mapping = {1:'x',2:'y',3:'z',4:'x*x',5:'2*y',6:'2*z+3*x*x',7:'w'}"
   ]
  },
  {
   "cell_type": "code",
   "execution_count": 29,
   "metadata": {},
   "outputs": [
    {
     "name": "stdout",
     "output_type": "stream",
     "text": [
      "(100, 7)\n",
      "(100,)\n"
     ]
    }
   ],
   "source": [
    "print(X.shape)\n",
    "print(Y.shape)\n",
    "#print(X[1:10])\n",
    "#print((X+100)[1:10])"
   ]
  },
  {
   "cell_type": "markdown",
   "metadata": {
    "colab_type": "text",
    "id": "Ydm98u3EblUU"
   },
   "source": [
    "### Doing perturbation test to check the presence of collinearity  \n",
    "\n",
    "#### Task: 1 Logistic Regression\n",
    "<pre>\n",
    "\n",
    "\n",
    "1. <b>Finding the Correlation between the features</b>\n",
    "    a. check the correlation between the features\n",
    "    b. plot heat map of correlation matrix using seaborn heatmap\n",
    "2. <b>Finding the best model for the given data</b>\n",
    "    a. Train Logistic regression on data(X,Y) that we have created in the above cell\n",
    "    b. Find the best hyper prameter alpha with hyper parameter tuning using k-fold cross validation (grid search CV or         \n",
    "    random search CV make sure you choose the alpha in log space)\n",
    "    c. Creat a new Logistic regression with the best alpha\n",
    "    (search for how to get the best hyper parameter value), name the best model as 'best_model'\n",
    "    \n",
    "3. <b>Getting the weights with the original data</b>\n",
    "    a. train the 'best_model' with X, Y\n",
    "    b. Check the accuracy of the model 'best_model_accuracy'\n",
    "    c. Get the weights W using best_model.coef_\n",
    "\n",
    "4. <b>Modifying original data</b>\n",
    "    a. Add a noise(order of 10^-2) to each element of X \n",
    "    and get the new data set X' (X' = X + e)\n",
    "    b. Train the same 'best_model' with data (X', Y)\n",
    "    c. Check the accuracy of the model 'best_model_accuracy_edited'\n",
    "    d. Get the weights W' using best_model.coef_\n",
    "    \n",
    "5. <b> Checking deviations in metric and weights </b>\n",
    "    a. find the difference between 'best_model_accuracy_edited' and 'best_model_accuracy'\n",
    "    b. find the absolute change between each value of W and W' ==> |(W-W')|\n",
    "    c. print the top 4 features which have higher % change in weights \n",
    "    compare to the other feature\n",
    "\n",
    "</pre>\n",
    "\n",
    "#### Task: 2 Linear SVM\n",
    "\n",
    "<pre>\n",
    "1. Do the same steps (2, 3, 4, 5) we have done in the above task 1.\n",
    "</pre>\n",
    "\n",
    "<strong><font color='red'>Do write the observations based on the results you get from the deviations of weights in both Logistic Regression and linear SVM</font></strong>"
   ]
  },
  {
   "cell_type": "code",
   "execution_count": 30,
   "metadata": {
    "colab": {},
    "colab_type": "code",
    "id": "Lai8wXU1pmSb"
   },
   "outputs": [
    {
     "name": "stdout",
     "output_type": "stream",
     "text": [
      "***************Heat Map of correlation between feature***********************\n"
     ]
    },
    {
     "data": {
      "image/png": "[encoded data removed]",
      "text/plain": [
       "<Figure size 432x288 with 2 Axes>"
      ]
     },
     "metadata": {},
     "output_type": "display_data"
    }
   ],
   "source": [
    "#Doing perturbation test to check the presence of collinearity\n",
    "#Task: 1 Logistic Regression\n",
    "\n",
    "#Finding the Correlation between the features via Pearson Correlation Cofficient \n",
    "correlation_coef = np.corrcoef(X,rowvar=False)\n",
    "#print(correlation_coef.shape)\n",
    "#print(correlation_coef)\n",
    "\n",
    "#Adding column names, row names for more readability \n",
    "df = pd.DataFrame(correlation_coef,columns=[\"F1\",\"F2\",\"F3\",\"F4\",\"F5\",\"F6\",\"F7\"],index = [\"F1\",\"F2\",\"F3\",\"F4\",\"F5\",\"F6\",\"F7\"])\n",
    "#print(df)\n",
    "print(\"***************Heat Map of correlation between feature***********************\")\n",
    "ax =sns.heatmap(df,annot = True, xticklabels=True, yticklabels=True)"
   ]
  },
  {
   "cell_type": "code",
   "execution_count": 31,
   "metadata": {},
   "outputs": [
    {
     "name": "stdout",
     "output_type": "stream",
     "text": [
      "********Best Estimator********\n",
      "SGDClassifier(alpha=0.01, loss='log', random_state=20)\n",
      "{'alpha': 0.01}\n"
     ]
    },
    {
     "data": {
      "text/plain": [
       "SGDClassifier(alpha=0.01, loss='log', random_state=20)"
      ]
     },
     "execution_count": 31,
     "metadata": {},
     "output_type": "execute_result"
    }
   ],
   "source": [
    "#Finding the best model for the given data\n",
    "#Train Logistic regression on data(X,Y) that we have created in the above cell\n",
    "logistic_regression = SGDClassifier(loss='log',random_state = 20)\n",
    "logistic_regression.fit(X,Y)\n",
    "\n",
    "#Find the best hyper prameter alpha with hyper parameter tuning using k-fold cross validation (grid search CV or random search CV make sure you choose the alpha in log space)\n",
    "parameters = {'alpha':[0.0001,0.001,0.01,0.1,1, 10,100,1000,10000]}\n",
    "clf = GridSearchCV(logistic_regression, parameters)\n",
    "clf.fit(X,Y)\n",
    "#print(clf.cv_results_)\n",
    "print(\"********Best Estimator********\")\n",
    "best_alpha = clf.best_params_['alpha']\n",
    "print(clf.best_estimator_)\n",
    "print(clf.best_params_)\n",
    "#print(clf.cv_results_)\n",
    "\n",
    "#Creat a new Logistic regression with the best alpha (search for how to get the best hyper parameter value), name the best model as 'best_model'\n",
    "best_model = SGDClassifier(loss = 'log',alpha = best_alpha,random_state =20)\n",
    "best_model.fit(X,Y)\n"
   ]
  },
  {
   "cell_type": "code",
   "execution_count": 32,
   "metadata": {},
   "outputs": [
    {
     "name": "stdout",
     "output_type": "stream",
     "text": [
      "Best Model Accuracy:  1.0\n",
      "Best Model's Class Weights:  [ 0.726548   -0.89728841  1.72389953  0.66247604 -0.89728841  0.80436469\n",
      "  0.50135355]\n"
     ]
    }
   ],
   "source": [
    "#Getting the weights with the original data\n",
    "#Check the accuracy of the model 'best_model_accuracy'\n",
    "class_weights = best_model.coef_[0]\n",
    "best_model_accuracy = best_model.score(X,Y)\n",
    "print(\"Best Model Accuracy: \", best_model_accuracy)\n",
    "\n",
    "#Get the weights W using best_model.coef_\n",
    "print(\"Best Model's Class Weights: \", class_weights)\n",
    "\n"
   ]
  },
  {
   "cell_type": "code",
   "execution_count": 33,
   "metadata": {},
   "outputs": [
    {
     "name": "stdout",
     "output_type": "stream",
     "text": [
      "X before Pertuberation:\n",
      "[[-0.5810659   0.84183714 -1.01297765 -0.60402468  0.84183714 -0.66592679\n",
      "  -0.53627703]]\n",
      "X after Pertuberation:\n",
      "[[-0.5710659   0.85183714 -1.00297765 -0.59402468  0.85183714 -0.65592679\n",
      "  -0.52627703]]\n",
      "*******************************************************************************************\n",
      "Best Model Accuracy After Pertuberation:  1.0\n",
      "Best Model's Class Weights:  [ 0.72665047 -0.89716276  1.72336461  0.66294523 -0.89716276  0.80469158\n",
      "  0.50207115]\n"
     ]
    }
   ],
   "source": [
    "#Modifying original data\n",
    "#Add a noise(order of 10^-2) to each element of X and get the new data set X' (X' = X + e)\n",
    "e = 0.01\n",
    "print(\"X before Pertuberation:\")\n",
    "print(X[0:1])\n",
    "X = X+e\n",
    "print(\"X after Pertuberation:\")\n",
    "print(X[0:1])\n",
    "\n",
    "#Train the same 'best_model' with data (X', Y)\n",
    "best_model.fit(X,Y)\n",
    "\n",
    "#Check the accuracy of the model 'best_model_accuracy_edited'\n",
    "print(\"*******************************************************************************************\")\n",
    "best_model_accuracy_edited = best_model.score(X,Y)\n",
    "print(\"Best Model Accuracy After Pertuberation: \", best_model_accuracy_edited)\n",
    "\n",
    "#Get the weights W' using best_model.coef_\n",
    "class_weights_edited = best_model.coef_[0]\n",
    "print(\"Best Model's Class Weights: \", class_weights_edited)"
   ]
  },
  {
   "cell_type": "code",
   "execution_count": 34,
   "metadata": {},
   "outputs": [
    {
     "name": "stdout",
     "output_type": "stream",
     "text": [
      "difference between 'best_model_accuracy_edited' and 'best_model_accuracy':  0.0\n",
      "Absolute change between each value of W and W':  [0.00010247 0.00012565 0.00053492 0.0004692  0.00012565 0.00032689\n",
      " 0.0007176 ]\n",
      "class_weigths_difference_pct:  [0.00014103 0.00014003 0.0003103  0.00070825 0.00014003 0.00040639\n",
      " 0.00143133]\n",
      "***********************************************************************************************\n",
      "Top 4 features which have higher % change in weights compare to the other feature ['w', 'x*x', '2*z+3*x*x', 'z']\n"
     ]
    }
   ],
   "source": [
    "# Checking deviations in metric and weights \n",
    "# find the difference between 'best_model_accuracy_edited' and 'best_model_accuracy'\n",
    "accuracy_difference = (best_model_accuracy_edited-best_model_accuracy)\n",
    "print(\"difference between 'best_model_accuracy_edited' and 'best_model_accuracy': \",accuracy_difference)\n",
    "\n",
    "# find the absolute change between each value of W and W' ==> |(W-W')|\n",
    "class_weigths_difference = abs(class_weights - class_weights_edited)\n",
    "print(\"Absolute change between each value of W and W': \",class_weigths_difference)\n",
    "\n",
    "# print the top 4 features which have higher % change in weights compare to the other feature\n",
    "class_weigths_difference_pct_logistic = abs((class_weights - class_weights_edited) / class_weights)\n",
    "print(\"class_weigths_difference_pct: \", class_weigths_difference_pct_logistic)\n",
    "#print(np.argsort(class_weigths_difference_pct))\n",
    "print(\"***********************************************************************************************\")\n",
    "#print(np.argsort(class_weigths_difference_pct)[:2:-1])\n",
    "\n",
    "print(\"Top 4 features which have higher % change in weights compare to the other feature\",[feature_mapping[i+1] for i in (np.argsort(class_weigths_difference_pct_logistic)[:2:-1])])\n"
   ]
  },
  {
   "cell_type": "code",
   "execution_count": 35,
   "metadata": {},
   "outputs": [
    {
     "name": "stdout",
     "output_type": "stream",
     "text": [
      "********Best Estimator********\n",
      "SGDClassifier(alpha=0.1, random_state=20)\n",
      "{'alpha': 0.1}\n"
     ]
    },
    {
     "data": {
      "text/plain": [
       "SGDClassifier(alpha=0.1, loss='log', random_state=20)"
      ]
     },
     "execution_count": 35,
     "metadata": {},
     "output_type": "execute_result"
    }
   ],
   "source": [
    "#***************Perform Steps 2 to 5 with SVM*******************\n",
    "#Finding the best model for the given data\n",
    "#Train svm on data(X,Y) that we have created in the above cell\n",
    "svm = SGDClassifier(loss='hinge',random_state =20)\n",
    "svm.fit(X,Y)\n",
    "\n",
    "#Find the best hyper prameter alpha with hyper parameter tuning using k-fold cross validation (grid search CV or random search CV make sure you choose the alpha in log space)\n",
    "parameters = {'alpha':[0.0001,0.001,0.01,0.1,1, 10,100,1000,10000]}\n",
    "clf = GridSearchCV(svm, parameters)\n",
    "clf.fit(X,Y)\n",
    "#print(clf.cv_results_)\n",
    "print(\"********Best Estimator********\")\n",
    "best_alpha = clf.best_params_['alpha']\n",
    "print(clf.best_estimator_)\n",
    "print(clf.best_params_)\n",
    "#print(clf.cv_results_)\n",
    "\n",
    "#Creat a new svm with the best alpha (search for how to get the best hyper parameter value), name the best model as 'best_model'\n",
    "best_model = SGDClassifier(loss = 'log',alpha = best_alpha,random_state = 20)\n",
    "best_model.fit(X,Y)\n"
   ]
  },
  {
   "cell_type": "code",
   "execution_count": 36,
   "metadata": {},
   "outputs": [
    {
     "name": "stdout",
     "output_type": "stream",
     "text": [
      "Best Model Accuracy:  1.0\n",
      "Best Model's Class Weights:  [ 0.4078346  -0.52117395  0.79424456  0.38563394 -0.52117395  0.4429374\n",
      "  0.34597669]\n"
     ]
    }
   ],
   "source": [
    "#Getting the weights with the original data\n",
    "#Check the accuracy of the model 'best_model_accuracy'\n",
    "class_weights = best_model.coef_[0]\n",
    "best_model_accuracy = best_model.score(X,Y)\n",
    "print(\"Best Model Accuracy: \", best_model_accuracy)\n",
    "\n",
    "#Get the weights W using best_model.coef_\n",
    "print(\"Best Model's Class Weights: \", class_weights)\n"
   ]
  },
  {
   "cell_type": "code",
   "execution_count": 37,
   "metadata": {},
   "outputs": [
    {
     "name": "stdout",
     "output_type": "stream",
     "text": [
      "X before Pertuberation:\n",
      "[[-0.5710659   0.85183714 -1.00297765 -0.59402468  0.85183714 -0.65592679\n",
      "  -0.52627703]]\n",
      "X after Pertuberation:\n",
      "[[-0.5610659   0.86183714 -0.99297765 -0.58402468  0.86183714 -0.64592679\n",
      "  -0.51627703]]\n",
      "*******************************************************************************************\n",
      "Best Model Accuracy After Pertuberation:  1.0\n",
      "Best Model's Class Weights:  [ 0.40800789 -0.52064558  0.79465013  0.3858671  -0.52064558  0.44316916\n",
      "  0.34658003]\n"
     ]
    }
   ],
   "source": [
    "#Modifying original data\n",
    "#Add a noise(order of 10^-2) to each element of X and get the new data set X' (X' = X + e)\n",
    "e = 0.01\n",
    "print(\"X before Pertuberation:\")\n",
    "print(X[0:1])\n",
    "X = X+e\n",
    "print(\"X after Pertuberation:\")\n",
    "print(X[0:1])\n",
    "\n",
    "#Train the same 'best_model' with data (X', Y)\n",
    "best_model.fit(X,Y)\n",
    "\n",
    "#Check the accuracy of the model 'best_model_accuracy_edited'\n",
    "print(\"*******************************************************************************************\")\n",
    "best_model_accuracy_edited = best_model.score(X,Y)\n",
    "print(\"Best Model Accuracy After Pertuberation: \", best_model_accuracy_edited)\n",
    "\n",
    "#Get the weights W' using best_model.coef_\n",
    "class_weights_edited = best_model.coef_[0]\n",
    "print(\"Best Model's Class Weights: \", class_weights_edited)"
   ]
  },
  {
   "cell_type": "code",
   "execution_count": 38,
   "metadata": {},
   "outputs": [
    {
     "name": "stdout",
     "output_type": "stream",
     "text": [
      "difference between 'best_model_accuracy_edited' and 'best_model_accuracy':  0.0\n",
      "Absolute change between each value of W and W':  [0.00017328 0.00052838 0.00040557 0.00023316 0.00052838 0.00023176\n",
      " 0.00060334]\n",
      "class_weigths_difference_pct:  [0.00042488 0.00101382 0.00051063 0.00060461 0.00101382 0.00052324\n",
      " 0.00174387]\n",
      "***********************************************************************************************\n",
      "Top 4 features which have higher % change in weights compare to the other feature ['w', '2*y', 'y', 'x*x']\n"
     ]
    }
   ],
   "source": [
    "# Checking deviations in metric and weights \n",
    "# find the difference between 'best_model_accuracy_edited' and 'best_model_accuracy'\n",
    "accuracy_difference = (best_model_accuracy_edited-best_model_accuracy)\n",
    "print(\"difference between 'best_model_accuracy_edited' and 'best_model_accuracy': \",accuracy_difference)\n",
    "\n",
    "# find the absolute change between each value of W and W' ==> |(W-W')|\n",
    "class_weigths_difference = abs(class_weights - class_weights_edited)\n",
    "print(\"Absolute change between each value of W and W': \",class_weigths_difference)\n",
    "\n",
    "# print the top 4 features which have higher % change in weights compare to the other feature\n",
    "class_weigths_difference_pct_svm = abs((class_weights - class_weights_edited) / class_weights)\n",
    "print(\"class_weigths_difference_pct: \", class_weigths_difference_pct_svm)\n",
    "#print(np.argsort(class_weigths_difference_pct))\n",
    "print(\"***********************************************************************************************\")\n",
    "#print(np.argsort(class_weigths_difference_pct)[:2:-1])\n",
    "\n",
    "print(\"Top 4 features which have higher % change in weights compare to the other feature\",[feature_mapping[i+1] for i in (np.argsort(class_weigths_difference_pct_svm)[:2:-1])])\n"
   ]
  },
  {
   "cell_type": "code",
   "execution_count": 39,
   "metadata": {},
   "outputs": [
    {
     "name": "stdout",
     "output_type": "stream",
     "text": [
      "----------------------------------------------------------------------\n",
      "class_weigths_difference_pct via logistic:  [0.00014103 0.00014003 0.0003103  0.00070825 0.00014003 0.00040639\n",
      " 0.00143133]\n",
      "----------------------------------------------------------------------\n",
      "class_weigths_difference_pct via SVM:  [0.00042488 0.00101382 0.00051063 0.00060461 0.00101382 0.00052324\n",
      " 0.00174387]\n",
      "No differnce in class_weigths_difference_pct via logistic and SVM \n",
      "----------------------------------------------------------------------\n",
      "Top 4 features which have higher % change in weights in both cases [SVM] and [Logistic Regression] ['w', '2*y', 'y', 'x*x']\n"
     ]
    }
   ],
   "source": [
    " #Print the top 4 feature names explicitly having the highest percentage change in both the tasks.\n",
    "\n",
    "print(\"-\"*70)\n",
    "print(\"class_weigths_difference_pct via logistic: \", class_weigths_difference_pct_logistic)\n",
    "print(\"-\"*70)\n",
    "print(\"class_weigths_difference_pct via SVM: \", class_weigths_difference_pct_svm)\n",
    "print(\"No differnce in class_weigths_difference_pct via logistic and SVM \")\n",
    "print(\"-\"*70)\n",
    "print(\"Top 4 features which have higher % change in weights in both cases [SVM] and [Logistic Regression]\",[feature_mapping[i+1] for i in (np.argsort(class_weigths_difference_pct_svm)[:2:-1])])"
   ]
  },
  {
   "cell_type": "markdown",
   "metadata": {},
   "source": [
    "# Observation:\n",
    "- Mean deviation of class weights for logistic regression: 0.1177683 \n",
    "- Mean deviation of class weights for SVM: 0.037347999\n",
    "- Therefore, SVM has less deviation and more robust to pertuberation of train data. \n",
    "- And, Feature 7 is more important in classification irrespective of algorithm selected.\n",
    "- Top 4 features which have higher % change in weights in both cases [SVM] and [Logistic Regression] ['w', '2*y', 'y', 'x*x']"
   ]
  },
  {
   "cell_type": "code",
   "execution_count": null,
   "metadata": {},
   "outputs": [],
   "source": []
  }
 ],
 "metadata": {
  "colab": {
   "name": "8D_LR_SVM.ipynb",
   "provenance": []
  },
  "kernelspec": {
   "display_name": "Python 3",
   "language": "python",
   "name": "python3"
  },
  "language_info": {
   "codemirror_mode": {
    "name": "ipython",
    "version": 3
   },
   "file_extension": ".py",
   "mimetype": "text/x-python",
   "name": "python",
   "nbconvert_exporter": "python",
   "pygments_lexer": "ipython3",
   "version": "3.6.5"
  }
 },
 "nbformat": 4,
 "nbformat_minor": 1
}
